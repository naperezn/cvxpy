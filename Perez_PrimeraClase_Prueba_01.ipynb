{
  "nbformat": 4,
  "nbformat_minor": 0,
  "metadata": {
    "colab": {
      "provenance": [],
      "authorship_tag": "ABX9TyN2gkGceaD1phalX6XLAMe3",
      "include_colab_link": true
    },
    "kernelspec": {
      "name": "python3",
      "display_name": "Python 3"
    },
    "language_info": {
      "name": "python"
    }
  },
  "cells": [
    {
      "cell_type": "markdown",
      "metadata": {
        "id": "view-in-github",
        "colab_type": "text"
      },
      "source": [
        "<a href=\"https://colab.research.google.com/github/naperezn/cvxpy/blob/master/Perez_PrimeraClase_Prueba_01.ipynb\" target=\"_parent\"><img src=\"https://colab.research.google.com/assets/colab-badge.svg\" alt=\"Open In Colab\"/></a>"
      ]
    },
    {
      "cell_type": "markdown",
      "source": [
        "# Práctica primera clase\n",
        "Práctica de subtitulos"
      ],
      "metadata": {
        "id": "xaTpswhg35I2"
      }
    },
    {
      "cell_type": "code",
      "execution_count": 4,
      "metadata": {
        "colab": {
          "base_uri": "https://localhost:8080/"
        },
        "id": "ew4ektmk2Rr8",
        "outputId": "650217ad-ce34-4931-abb4-ac30260d12eb"
      },
      "outputs": [
        {
          "output_type": "stream",
          "name": "stdout",
          "text": [
            "Hola, buen día mundo.\n"
          ]
        }
      ],
      "source": [
        "print(\"Hola, buen día mundo.\")"
      ]
    },
    {
      "cell_type": "markdown",
      "source": [
        "Práctica segundo ejercicio\n",
        "# Práctica de nombres e índice a la izquierda de tres puntos."
      ],
      "metadata": {
        "id": "w3GovWWp40BO"
      }
    },
    {
      "cell_type": "code",
      "source": [
        "print(\"Hola, buen día Nailim.\")"
      ],
      "metadata": {
        "colab": {
          "base_uri": "https://localhost:8080/"
        },
        "id": "qrKgX4BD4RZm",
        "outputId": "12abea85-e9a7-4f24-e827-cd0b781699d7"
      },
      "execution_count": 5,
      "outputs": [
        {
          "output_type": "stream",
          "name": "stdout",
          "text": [
            "Hola, buen día Nailim.\n"
          ]
        }
      ]
    }
  ]
}